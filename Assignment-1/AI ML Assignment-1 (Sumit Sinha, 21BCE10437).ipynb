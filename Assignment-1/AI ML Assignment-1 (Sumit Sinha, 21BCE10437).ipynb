{
 "cells": [
  {
   "cell_type": "markdown",
   "id": "5355f565",
   "metadata": {},
   "source": [
    "# Task-1 : Create a pandas dataframe (DataFrame name as 'df') with numpy random values (4 features and 4 observation)"
   ]
  },
  {
   "cell_type": "markdown",
   "id": "5e4be17c",
   "metadata": {},
   "source": [
    "Import Libraries"
   ]
  },
  {
   "cell_type": "code",
   "execution_count": 1,
   "id": "3643f0af",
   "metadata": {},
   "outputs": [],
   "source": [
    "import numpy as np\n",
    "import pandas as pd"
   ]
  },
  {
   "cell_type": "markdown",
   "id": "67cb6cf7",
   "metadata": {},
   "source": [
    "Creating the database"
   ]
  },
  {
   "cell_type": "code",
   "execution_count": 2,
   "id": "d35ff12e",
   "metadata": {},
   "outputs": [],
   "source": [
    "np.random.seed(42)\n",
    "\n",
    "data = np.random.randn(4, 4)  # 4 features, 4 observations\n",
    "\n",
    "# Create a DataFrame\n",
    "df = pd.DataFrame(data, columns=['Feature1', 'Feature2', 'Feature3', 'Feature4'])"
   ]
  },
  {
   "cell_type": "markdown",
   "id": "e5761a3d",
   "metadata": {},
   "source": [
    "Display the dataframe"
   ]
  },
  {
   "cell_type": "code",
   "execution_count": 3,
   "id": "f94ce654",
   "metadata": {},
   "outputs": [
    {
     "name": "stdout",
     "output_type": "stream",
     "text": [
      "   Feature1  Feature2  Feature3  Feature4\n",
      "0  0.496714 -0.138264  0.647689  1.523030\n",
      "1 -0.234153 -0.234137  1.579213  0.767435\n",
      "2 -0.469474  0.542560 -0.463418 -0.465730\n",
      "3  0.241962 -1.913280 -1.724918 -0.562288\n"
     ]
    }
   ],
   "source": [
    "print(df)"
   ]
  },
  {
   "cell_type": "markdown",
   "id": "d69e0a0c",
   "metadata": {},
   "source": [
    "# Task-2 : Rename the task - 1 'df 'dataframe column names to 'Random value 1', 'Random value 2', 'Random value 3' & 'Random value 4'"
   ]
  },
  {
   "cell_type": "markdown",
   "id": "4a20e1b8",
   "metadata": {},
   "source": [
    "Renaming the columns"
   ]
  },
  {
   "cell_type": "code",
   "execution_count": 4,
   "id": "56855455",
   "metadata": {},
   "outputs": [],
   "source": [
    "df.rename(columns={'Feature1': 'Random value 1',\n",
    "                   'Feature2': 'Random value 2',\n",
    "                   'Feature3': 'Random value 3',\n",
    "                   'Feature4': 'Random value 4'}, inplace=True)"
   ]
  },
  {
   "cell_type": "markdown",
   "id": "f9457479",
   "metadata": {},
   "source": [
    "Displaying the renamed dataframe"
   ]
  },
  {
   "cell_type": "code",
   "execution_count": 5,
   "id": "49061f93",
   "metadata": {},
   "outputs": [
    {
     "name": "stdout",
     "output_type": "stream",
     "text": [
      "   Random value 1  Random value 2  Random value 3  Random value 4\n",
      "0        0.496714       -0.138264        0.647689        1.523030\n",
      "1       -0.234153       -0.234137        1.579213        0.767435\n",
      "2       -0.469474        0.542560       -0.463418       -0.465730\n",
      "3        0.241962       -1.913280       -1.724918       -0.562288\n"
     ]
    }
   ],
   "source": [
    "print(df)"
   ]
  },
  {
   "cell_type": "markdown",
   "id": "09c3692b",
   "metadata": {},
   "source": [
    "# Task-3 : Find the descriptive statistics of the 'df ' dataframe."
   ]
  },
  {
   "cell_type": "markdown",
   "id": "3d219588",
   "metadata": {},
   "source": [
    "Calculating the descriptive statistics"
   ]
  },
  {
   "cell_type": "code",
   "execution_count": 7,
   "id": "b144dedd",
   "metadata": {},
   "outputs": [],
   "source": [
    "statistics = df.describe()"
   ]
  },
  {
   "cell_type": "markdown",
   "id": "0ce368fc",
   "metadata": {},
   "source": [
    "Displaying the descriptive statistics"
   ]
  },
  {
   "cell_type": "code",
   "execution_count": 8,
   "id": "faa1b833",
   "metadata": {},
   "outputs": [
    {
     "name": "stdout",
     "output_type": "stream",
     "text": [
      "       Random value 1  Random value 2  Random value 3  Random value 4\n",
      "count        4.000000        4.000000        4.000000        4.000000\n",
      "mean         0.008762       -0.435780        0.009641        0.315612\n",
      "std          0.439772        1.043924        1.426317        1.007175\n",
      "min         -0.469474       -1.913280       -1.724918       -0.562288\n",
      "25%         -0.292984       -0.653923       -0.778793       -0.489869\n",
      "50%          0.003904       -0.186201        0.092135        0.150852\n",
      "75%          0.305650        0.031942        0.880570        0.956334\n",
      "max          0.496714        0.542560        1.579213        1.523030\n"
     ]
    }
   ],
   "source": [
    "print(statistics)"
   ]
  },
  {
   "cell_type": "markdown",
   "id": "53fef268",
   "metadata": {},
   "source": [
    "# Task-4 : Check for the null values in 'df' and find the data type of the columns."
   ]
  },
  {
   "cell_type": "markdown",
   "id": "f2e5dea8",
   "metadata": {},
   "source": [
    "Checking for null values"
   ]
  },
  {
   "cell_type": "code",
   "execution_count": 9,
   "id": "a5464262",
   "metadata": {},
   "outputs": [],
   "source": [
    "null_values = df.isnull().sum()"
   ]
  },
  {
   "cell_type": "markdown",
   "id": "0cd9aa69",
   "metadata": {},
   "source": [
    "Getting the datatype"
   ]
  },
  {
   "cell_type": "code",
   "execution_count": 10,
   "id": "f0abab17",
   "metadata": {},
   "outputs": [],
   "source": [
    "data_types = df.dtypes"
   ]
  },
  {
   "cell_type": "markdown",
   "id": "ee946bcb",
   "metadata": {},
   "source": [
    "Displaying the results"
   ]
  },
  {
   "cell_type": "code",
   "execution_count": 11,
   "id": "f84c54b1",
   "metadata": {},
   "outputs": [
    {
     "name": "stdout",
     "output_type": "stream",
     "text": [
      "Null Values:\n",
      " Random value 1    0\n",
      "Random value 2    0\n",
      "Random value 3    0\n",
      "Random value 4    0\n",
      "dtype: int64\n",
      "\n",
      "Data Types:\n",
      " Random value 1    float64\n",
      "Random value 2    float64\n",
      "Random value 3    float64\n",
      "Random value 4    float64\n",
      "dtype: object\n"
     ]
    }
   ],
   "source": [
    "print(\"Null Values:\\n\", null_values)\n",
    "print(\"\\nData Types:\\n\", data_types)"
   ]
  },
  {
   "cell_type": "markdown",
   "id": "221fd9b6",
   "metadata": {},
   "source": [
    "# Task-5 : Display the 'Random value 2' & 'Random value 3' columns with location method and index location method"
   ]
  },
  {
   "cell_type": "markdown",
   "id": "72071bfe",
   "metadata": {},
   "source": [
    "Using location method"
   ]
  },
  {
   "cell_type": "code",
   "execution_count": 14,
   "id": "8b8d0258",
   "metadata": {},
   "outputs": [
    {
     "name": "stdout",
     "output_type": "stream",
     "text": [
      "   Random value 2  Random value 3\n",
      "0       -0.138264        0.647689\n",
      "1       -0.234137        1.579213\n",
      "2        0.542560       -0.463418\n",
      "3       -1.913280       -1.724918\n"
     ]
    }
   ],
   "source": [
    "selected_columns = df.loc[:, ['Random value 2', 'Random value 3']]\n",
    "print(selected_columns)"
   ]
  },
  {
   "cell_type": "markdown",
   "id": "8d8e5fee",
   "metadata": {},
   "source": [
    "Using index location method"
   ]
  },
  {
   "cell_type": "code",
   "execution_count": 15,
   "id": "fc6ed407",
   "metadata": {},
   "outputs": [
    {
     "name": "stdout",
     "output_type": "stream",
     "text": [
      "   Random value 2  Random value 3\n",
      "0       -0.138264        0.647689\n",
      "1       -0.234137        1.579213\n",
      "2        0.542560       -0.463418\n",
      "3       -1.913280       -1.724918\n"
     ]
    }
   ],
   "source": [
    "selected_columns = df.iloc[:, [1, 2]]\n",
    "print(selected_columns)"
   ]
  },
  {
   "cell_type": "code",
   "execution_count": null,
   "id": "f4ed903f",
   "metadata": {},
   "outputs": [],
   "source": []
  }
 ],
 "metadata": {
  "kernelspec": {
   "display_name": "Python 3 (ipykernel)",
   "language": "python",
   "name": "python3"
  },
  "language_info": {
   "codemirror_mode": {
    "name": "ipython",
    "version": 3
   },
   "file_extension": ".py",
   "mimetype": "text/x-python",
   "name": "python",
   "nbconvert_exporter": "python",
   "pygments_lexer": "ipython3",
   "version": "3.10.9"
  }
 },
 "nbformat": 4,
 "nbformat_minor": 5
}
